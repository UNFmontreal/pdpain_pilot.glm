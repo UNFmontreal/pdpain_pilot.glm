{
 "cells": [
  {
   "cell_type": "code",
   "execution_count": 32,
   "id": "f7baf350-c6d6-481d-8b2b-f51a49f54d65",
   "metadata": {},
   "outputs": [],
   "source": [
    "import os,glob\n",
    "import nilearn.glm\n",
    "from nilearn.interfaces.fmriprep import load_confounds\n",
    "import pandas as pd\n",
    "import numpy as np\n",
    "import nilearn.plotting\n",
    "from nilearn.glm.first_level import FirstLevelModel"
   ]
  },
  {
   "cell_type": "code",
   "execution_count": 79,
   "id": "2e7a0499-d38c-40ef-b887-4e6ce4d01a42",
   "metadata": {},
   "outputs": [],
   "source": [
    "CONTRASTS = {\n",
    "    \"painMainFx\": np.asarray([1,1,1,1,1,0,0,0]),\n",
    "    \"painRegression\": np.asarray([1,2,3,2,2,0,0,0])/10.,\n",
    "    \"painHighMinusLow\": np.asarray([-1,0,1,0,0,0,0,0]),\n",
    "    \"cueHighMinusLow\": np.asarray([0,0,0,0,0,-1,0,1]),\n",
    "    \"hypoalgesia\": np.asarray([0,-1,0,1,0,0,0,0]),\n",
    "    \"hyperalgesia\": np.asarray([0,-1,0,0,1,0,0,0]),\n",
    "}\n",
    "\n",
    "def compute_contrasts_run(bold_file, bold_file_tedana, mask_file, evt_file, smoothing_fwhm=5, t_r=1.48):\n",
    "    evts = pd.read_csv(evt_file, delimiter='\\t')\n",
    "    cfnds = load_confounds(bold_file, motion=\"derivatives\")[0]\n",
    "    fmri_glm = FirstLevelModel(\n",
    "        t_r=t_r,\n",
    "        mask_img=mask_file,\n",
    "        drift_model=None,\n",
    "        smoothing_fwhm=smoothing_fwhm,\n",
    "    )\n",
    "    fmri_glm.fit(bold_file_tedana, events=evts, confounds=cfnds)\n",
    "    return {ctx_name:fmri_glm.compute_contrast(ctx) for ctx_name, ctx in CONTRASTS.items()}\n",
    "\n",
    "\n",
    "\n",
    "\n",
    "def compute_contrasts(bold_files, bold_files_tedana, mask_file, evt_files, smoothing_fwhm=5, t_r=1.48):\n",
    "    evts = [pd.read_csv(evt_file, delimiter='\\t') for evt_file in evt_files]\n",
    "    cfnds = [load_confounds(bold_file, motion=\"derivatives\")[0] for bold_file in bold_files]\n",
    "    fmri_glm = FirstLevelModel(\n",
    "        t_r=t_r,\n",
    "        mask_img=mask_file,\n",
    "        drift_model=None,\n",
    "        smoothing_fwhm=smoothing_fwhm,\n",
    "    )\n",
    "    fmri_glm.fit(bold_files_tedana, events=evts, confounds=cfnds)\n",
    "    return {ctx_name:fmri_glm.compute_contrast(ctx) for ctx_name, ctx in CONTRASTS.items()}\n",
    "\n",
    "\n",
    "def save_contrasts(path, contrasts):\n",
    "    os.makedirs(os.path.dirname(path), exist_ok=True)\n",
    "    for ctx_name, ctx in contrasts.items():\n",
    "        ctx.to_filename(f\"{path}_contrast-{ctx_name}_stat-effect_statmap.nii.gz\")\n",
    "        max_val = ctx.dataobj.max()\n",
    "        view = nilearn.plotting.view_img(ctx, threshold=max(2,max_val*.4), vmax=max_val*.8)\n",
    "        view.save_as_html(f\"{path}_contrast-{ctx_name}_stat-effect_statmap.html\")\n",
    "        del view"
   ]
  },
  {
   "cell_type": "code",
   "execution_count": 88,
   "id": "8bcb4f3a-d211-4d88-9f72-22d54d630503",
   "metadata": {},
   "outputs": [
    {
     "name": "stdout",
     "output_type": "stream",
     "text": [
      "processing sub-03\n"
     ]
    },
    {
     "name": "stderr",
     "output_type": "stream",
     "text": [
      "/home/bpinsard/.virtualenvs/neuromod_data3.10/lib/python3.10/site-packages/nilearn/glm/first_level/experimental_paradigm.py:167: UserWarning: The following unexpected columns in events data will be ignored: Unnamed: 0\n",
      "  warnings.warn(\n",
      "/home/bpinsard/.virtualenvs/neuromod_data3.10/lib/python3.10/site-packages/nilearn/glm/first_level/experimental_paradigm.py:167: UserWarning: The following unexpected columns in events data will be ignored: TODO -- fill in rows and add more tab-separated columns if desired, response_time, stim_file\n",
      "  warnings.warn(\n",
      "/tmp/ipykernel_1303321/4082526485.py:35: UserWarning: One contrast given, assuming it for all 2 runs\n",
      "  return {ctx_name:fmri_glm.compute_contrast(ctx) for ctx_name, ctx in CONTRASTS.items()}\n",
      "/home/bpinsard/.virtualenvs/neuromod_data3.10/lib/python3.10/site-packages/nilearn/glm/contrasts.py:108: UserWarning: t contrasts should be of length P=33, but it has length 8. The rest of the contrast was padded with zeros.\n",
      "  reg = regression_result[label_].Tcontrast(con_val)\n",
      "/home/bpinsard/.virtualenvs/neuromod_data3.10/lib/python3.10/site-packages/nilearn/glm/contrasts.py:108: UserWarning: t contrasts should be of length P=18, but it has length 8. The rest of the contrast was padded with zeros.\n",
      "  reg = regression_result[label_].Tcontrast(con_val)\n",
      "/home/bpinsard/.virtualenvs/neuromod_data3.10/lib/python3.10/site-packages/numpy/core/fromnumeric.py:758: UserWarning: Warning: 'partition' will ignore the 'mask' of the MaskedArray.\n",
      "  a.partition(kth, axis=axis, kind=kind, order=order)\n",
      "/home/bpinsard/.virtualenvs/neuromod_data3.10/lib/python3.10/site-packages/numpy/core/fromnumeric.py:758: UserWarning: Warning: 'partition' will ignore the 'mask' of the MaskedArray.\n",
      "  a.partition(kth, axis=axis, kind=kind, order=order)\n",
      "/home/bpinsard/.virtualenvs/neuromod_data3.10/lib/python3.10/site-packages/numpy/core/fromnumeric.py:758: UserWarning: Warning: 'partition' will ignore the 'mask' of the MaskedArray.\n",
      "  a.partition(kth, axis=axis, kind=kind, order=order)\n",
      "/home/bpinsard/.virtualenvs/neuromod_data3.10/lib/python3.10/site-packages/numpy/core/fromnumeric.py:758: UserWarning: Warning: 'partition' will ignore the 'mask' of the MaskedArray.\n",
      "  a.partition(kth, axis=axis, kind=kind, order=order)\n",
      "/home/bpinsard/.virtualenvs/neuromod_data3.10/lib/python3.10/site-packages/numpy/core/fromnumeric.py:758: UserWarning: Warning: 'partition' will ignore the 'mask' of the MaskedArray.\n",
      "  a.partition(kth, axis=axis, kind=kind, order=order)\n",
      "/home/bpinsard/.virtualenvs/neuromod_data3.10/lib/python3.10/site-packages/numpy/core/fromnumeric.py:758: UserWarning: Warning: 'partition' will ignore the 'mask' of the MaskedArray.\n",
      "  a.partition(kth, axis=axis, kind=kind, order=order)\n"
     ]
    },
    {
     "name": "stdout",
     "output_type": "stream",
     "text": [
      "processing sub-04\n"
     ]
    },
    {
     "name": "stderr",
     "output_type": "stream",
     "text": [
      "/home/bpinsard/.virtualenvs/neuromod_data3.10/lib/python3.10/site-packages/nilearn/glm/first_level/experimental_paradigm.py:167: UserWarning: The following unexpected columns in events data will be ignored: Unnamed: 0\n",
      "  warnings.warn(\n",
      "/home/bpinsard/.virtualenvs/neuromod_data3.10/lib/python3.10/site-packages/nilearn/glm/first_level/experimental_paradigm.py:167: UserWarning: The following unexpected columns in events data will be ignored: Unnamed: 0\n",
      "  warnings.warn(\n",
      "/home/bpinsard/.virtualenvs/neuromod_data3.10/lib/python3.10/site-packages/nilearn/glm/first_level/experimental_paradigm.py:167: UserWarning: The following unexpected columns in events data will be ignored: Unnamed: 0\n",
      "  warnings.warn(\n",
      "/tmp/ipykernel_1303321/4082526485.py:35: UserWarning: One contrast given, assuming it for all 3 runs\n",
      "  return {ctx_name:fmri_glm.compute_contrast(ctx) for ctx_name, ctx in CONTRASTS.items()}\n",
      "/home/bpinsard/.virtualenvs/neuromod_data3.10/lib/python3.10/site-packages/nilearn/glm/contrasts.py:108: UserWarning: t contrasts should be of length P=33, but it has length 8. The rest of the contrast was padded with zeros.\n",
      "  reg = regression_result[label_].Tcontrast(con_val)\n",
      "/home/bpinsard/.virtualenvs/neuromod_data3.10/lib/python3.10/site-packages/numpy/core/fromnumeric.py:758: UserWarning: Warning: 'partition' will ignore the 'mask' of the MaskedArray.\n",
      "  a.partition(kth, axis=axis, kind=kind, order=order)\n",
      "/home/bpinsard/.virtualenvs/neuromod_data3.10/lib/python3.10/site-packages/numpy/core/fromnumeric.py:758: UserWarning: Warning: 'partition' will ignore the 'mask' of the MaskedArray.\n",
      "  a.partition(kth, axis=axis, kind=kind, order=order)\n",
      "/home/bpinsard/.virtualenvs/neuromod_data3.10/lib/python3.10/site-packages/numpy/core/fromnumeric.py:758: UserWarning: Warning: 'partition' will ignore the 'mask' of the MaskedArray.\n",
      "  a.partition(kth, axis=axis, kind=kind, order=order)\n",
      "/home/bpinsard/.virtualenvs/neuromod_data3.10/lib/python3.10/site-packages/numpy/core/fromnumeric.py:758: UserWarning: Warning: 'partition' will ignore the 'mask' of the MaskedArray.\n",
      "  a.partition(kth, axis=axis, kind=kind, order=order)\n",
      "/home/bpinsard/.virtualenvs/neuromod_data3.10/lib/python3.10/site-packages/numpy/core/fromnumeric.py:758: UserWarning: Warning: 'partition' will ignore the 'mask' of the MaskedArray.\n",
      "  a.partition(kth, axis=axis, kind=kind, order=order)\n",
      "/home/bpinsard/.virtualenvs/neuromod_data3.10/lib/python3.10/site-packages/numpy/core/fromnumeric.py:758: UserWarning: Warning: 'partition' will ignore the 'mask' of the MaskedArray.\n",
      "  a.partition(kth, axis=axis, kind=kind, order=order)\n"
     ]
    }
   ],
   "source": [
    "contrasts=dict()\n",
    "usable_runs = {\n",
    " #   2: [1,2,3],\n",
    "    3: [1,2],\n",
    "    4:[1,2,3],\n",
    "}\n",
    "for sub,ur in usable_runs.items():\n",
    "    print(f\"processing sub-0{sub}\")\n",
    "    ur = \"\".join(map(str,ur))\n",
    "    contrasts[sub] = compute_contrasts(\n",
    "        bold_files = sorted(glob.glob(f\"/scratch/PDPain/pdpain.fmriprep/sub-{sub:02d}/func/sub-{sub:02d}_task-painexpectancy_run-0[{ur}]_part-mag_space-T1w_desc-preproc_bold.nii.gz\")),\n",
    "        bold_files_tedana = sorted(glob.glob(f\"/scratch/PDPain/pdpain.tedana/sub-{sub:02d}/func/sub-{sub:02d}_task-painexpectancy_run-0[{ur}]/space-MNI152NLin2009cAsym_desc-denoised_bold.nii.gz\")),\n",
    "        mask_file = f\"/scratch/PDPain/pdpain.fmriprep/sub-{sub:02d}/func/sub-{sub:02d}_task-painexpectancy_run-02_part-mag_space-MNI152NLin2009cAsym_desc-brain_mask.nii.gz\",\n",
    "        evt_files = sorted(glob.glob(f\"/scratch/PDPain/pdpain.fmriprep/sourcedata/bids/sub-{sub:02d}/func/sub-{sub:02d}_task-painexpectancy_run-0[{ur}]_events.tsv\")),\n",
    "    )\n",
    "    save_contrasts(f\"./sub-{sub:02d}/stats/sub-{sub:02d}_task-painexpectancy_space-MNI152NLin2009cAsym\", contrasts[sub])"
   ]
  },
  {
   "cell_type": "code",
   "execution_count": null,
   "id": "c765e174-881b-4961-a58b-8143d66e3239",
   "metadata": {},
   "outputs": [],
   "source": []
  }
 ],
 "metadata": {
  "kernelspec": {
   "display_name": "Python 3 (ipykernel)",
   "language": "python",
   "name": "python3"
  },
  "language_info": {
   "codemirror_mode": {
    "name": "ipython",
    "version": 3
   },
   "file_extension": ".py",
   "mimetype": "text/x-python",
   "name": "python",
   "nbconvert_exporter": "python",
   "pygments_lexer": "ipython3",
   "version": "3.10.12"
  }
 },
 "nbformat": 4,
 "nbformat_minor": 5
}
